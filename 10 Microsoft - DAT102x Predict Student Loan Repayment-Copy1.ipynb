{
 "cells": [
  {
   "cell_type": "code",
   "execution_count": 177,
   "metadata": {
    "collapsed": true
   },
   "outputs": [],
   "source": [
    "# this is my code for \"Challenge 1: Data Exploration\" and 'Challenge 2: Machine Learning' \n",
    "# at course \"Microsoft: DAT102x Data Science Professional Project\"\n",
    "# course url = https://www.edx.org/course/data-science-professional-project-microsoft-dat102x-3"
   ]
  },
  {
   "cell_type": "code",
   "execution_count": 178,
   "metadata": {
    "collapsed": true
   },
   "outputs": [],
   "source": [
    "import numpy as np\n",
    "import pandas as pd\n",
    "import matplotlib.pyplot as plt\n",
    "import seaborn as sns\n",
    "import time\n",
    "from sklearn.metrics import mean_squared_error"
   ]
  },
  {
   "cell_type": "code",
   "execution_count": 179,
   "metadata": {
    "collapsed": true
   },
   "outputs": [],
   "source": [
    "# Download the data files\n",
    "X_train = pd.read_csv('C:/Users/t.bugaevskiy/Desktop/edX/10_DAT102x_Predict_Student_Loan_Repayment/train_values.csv', index_col = 'row_id')\n",
    "y_train = pd.read_csv('C:/Users/t.bugaevskiy/Desktop/edX/10_DAT102x_Predict_Student_Loan_Repayment/train_labels.csv', index_col = 'row_id')\n",
    "\n",
    "X_test = pd.read_csv('C:/Users/t.bugaevskiy/Desktop/edX/10_DAT102x_Predict_Student_Loan_Repayment/test_values.csv', index_col = 'row_id')"
   ]
  },
  {
   "cell_type": "code",
   "execution_count": 180,
   "metadata": {},
   "outputs": [
    {
     "data": {
      "text/plain": [
       "Int64Index([    0,     1,     2,     9,    10,    14,    16,    18,    20,\n",
       "               21,\n",
       "            ...\n",
       "            15072, 15074, 15075, 15076, 15077, 15079, 15082, 15087, 15090,\n",
       "            15092],\n",
       "           dtype='int64', name='row_id', length=6391)"
      ]
     },
     "execution_count": 180,
     "metadata": {},
     "output_type": "execute_result"
    }
   ],
   "source": [
    "#TODO add explanation of this \n",
    "row_id = X_test.index\n",
    "row_id"
   ]
  },
  {
   "cell_type": "code",
   "execution_count": 181,
   "metadata": {},
   "outputs": [
    {
     "name": "stdout",
     "output_type": "stream",
     "text": [
      "(8705, 443)\n",
      "(6391, 443)\n",
      "Float: (8705, 419)\n",
      "Float: (6391, 419)\n"
     ]
    }
   ],
   "source": [
    "print(X_train.shape)\n",
    "print(X_test.shape)\n",
    "\n",
    "print('Float:', X_train.loc[:, X_train.dtypes == float].shape)\n",
    "print('Float:', X_test.loc[:, X_test.dtypes == float].shape)"
   ]
  },
  {
   "cell_type": "code",
   "execution_count": 182,
   "metadata": {},
   "outputs": [
    {
     "name": "stdout",
     "output_type": "stream",
     "text": [
      "<class 'pandas.core.frame.DataFrame'>\n",
      "Int64Index: 8705 entries, 3 to 15095\n",
      "Columns: 443 entries, academics__program_assoc_agriculture to student__valid_dependency_status\n",
      "dtypes: float64(419), int64(1), object(23)\n",
      "memory usage: 29.5+ MB\n"
     ]
    }
   ],
   "source": [
    "X_train.info()"
   ]
  },
  {
   "cell_type": "code",
   "execution_count": 183,
   "metadata": {},
   "outputs": [
    {
     "name": "stdout",
     "output_type": "stream",
     "text": [
      "Minimum repayment_rate:  5.16270755822\n",
      "Maximum repayment_rate:  100.473630873\n",
      "Mean repayment_rate:  47.37086285128498\n",
      "Median repayment_rate:  44.855045202386776\n",
      "Standard Deviation of repayment_rate:  20.987641995662944\n"
     ]
    }
   ],
   "source": [
    "# Answears for course question about summary statistics you calculated for the repayment_rate column\n",
    "print('Minimum repayment_rate: ', y_train.repayment_rate.min())\n",
    "print('Maximum repayment_rate: ', y_train.repayment_rate.max())\n",
    "print('Mean repayment_rate: ', y_train.repayment_rate.mean())\n",
    "print('Median repayment_rate: ', y_train.repayment_rate.median())\n",
    "print('Standard Deviation of repayment_rate: ', y_train.repayment_rate.std())"
   ]
  },
  {
   "cell_type": "code",
   "execution_count": 184,
   "metadata": {},
   "outputs": [
    {
     "name": "stderr",
     "output_type": "stream",
     "text": [
      "C:\\Users\\t.bugaevskiy\\AppData\\Local\\Continuum\\Anaconda3\\lib\\site-packages\\statsmodels\\nonparametric\\kdetools.py:20: VisibleDeprecationWarning: using a non-integer number instead of an integer will result in an error in the future\n",
      "  y = X[:m/2+1] + np.r_[0,X[m/2+1:],0]*1j\n"
     ]
    },
    {
     "data": {
      "image/png": "[encoded data removed]",
      "text/plain": [
       "<matplotlib.figure.Figure at 0x82d4394e10>"
      ]
     },
     "metadata": {},
     "output_type": "display_data"
    },
    {
     "data": {
      "image/png": "[encoded data removed]",
      "text/plain": [
       "<matplotlib.figure.Figure at 0x82d4394ac8>"
      ]
     },
     "metadata": {},
     "output_type": "display_data"
    }
   ],
   "source": [
    "# Question: Which of these histograms most closely resembles the distribution of repayment_rate?\n",
    "plt.show(sns.distplot(y_train.repayment_rate))\n",
    "plt.show(plt.hist(y_train.repayment_rate))\n",
    "# Answear: Histogram C"
   ]
  },
  {
   "cell_type": "code",
   "execution_count": 185,
   "metadata": {},
   "outputs": [
    {
     "data": {
      "text/plain": [
       "Index(['academics__program_assoc_agriculture',\n",
       "       'academics__program_assoc_architecture',\n",
       "       'academics__program_assoc_biological',\n",
       "       'academics__program_assoc_business_marketing',\n",
       "       'academics__program_assoc_communication',\n",
       "       'academics__program_assoc_communications_technology',\n",
       "       'academics__program_assoc_computer',\n",
       "       'academics__program_assoc_construction',\n",
       "       'academics__program_assoc_education',\n",
       "       'academics__program_assoc_engineering',\n",
       "       'academics__program_assoc_engineering_technology',\n",
       "       'academics__program_assoc_english',\n",
       "       'academics__program_assoc_ethnic_cultural_gender',\n",
       "       'academics__program_assoc_family_consumer_science',\n",
       "       'academics__program_assoc_health', 'academics__program_assoc_history',\n",
       "       'academics__program_assoc_humanities',\n",
       "       'academics__program_assoc_language', 'academics__program_assoc_legal',\n",
       "       'academics__program_assoc_library',\n",
       "       'academics__program_assoc_mathematics',\n",
       "       'academics__program_assoc_mechanic_repair_technology',\n",
       "       'academics__program_assoc_military',\n",
       "       'academics__program_assoc_multidiscipline',\n",
       "       'academics__program_assoc_parks_recreation_fitness',\n",
       "       'academics__program_assoc_personal_culinary',\n",
       "       'academics__program_assoc_philosophy_religious',\n",
       "       'academics__program_assoc_physical_science',\n",
       "       'academics__program_assoc_precision_production',\n",
       "       'academics__program_assoc_psychology',\n",
       "       'academics__program_assoc_public_administration_social_service',\n",
       "       'academics__program_assoc_resources',\n",
       "       'academics__program_assoc_science_technology',\n",
       "       'academics__program_assoc_security_law_enforcement',\n",
       "       'academics__program_assoc_social_science',\n",
       "       'academics__program_assoc_theology_religious_vocation',\n",
       "       'academics__program_assoc_transportation',\n",
       "       'academics__program_assoc_visual_performing',\n",
       "       'academics__program_bachelors_agriculture',\n",
       "       'academics__program_bachelors_architecture',\n",
       "       'academics__program_bachelors_biological',\n",
       "       'academics__program_bachelors_business_marketing',\n",
       "       'academics__program_bachelors_communication',\n",
       "       'academics__program_bachelors_communications_technology',\n",
       "       'academics__program_bachelors_computer',\n",
       "       'academics__program_bachelors_construction',\n",
       "       'academics__program_bachelors_education',\n",
       "       'academics__program_bachelors_engineering',\n",
       "       'academics__program_bachelors_engineering_technology',\n",
       "       'academics__program_bachelors_english',\n",
       "       'academics__program_bachelors_ethnic_cultural_gender',\n",
       "       'academics__program_bachelors_family_consumer_science',\n",
       "       'academics__program_bachelors_health',\n",
       "       'academics__program_bachelors_history',\n",
       "       'academics__program_bachelors_humanities',\n",
       "       'academics__program_bachelors_language',\n",
       "       'academics__program_bachelors_legal',\n",
       "       'academics__program_bachelors_library',\n",
       "       'academics__program_bachelors_mathematics',\n",
       "       'academics__program_bachelors_mechanic_repair_technology',\n",
       "       'academics__program_bachelors_military',\n",
       "       'academics__program_bachelors_multidiscipline',\n",
       "       'academics__program_bachelors_parks_recreation_fitness',\n",
       "       'academics__program_bachelors_personal_culinary',\n",
       "       'academics__program_bachelors_philosophy_religious',\n",
       "       'academics__program_bachelors_physical_science',\n",
       "       'academics__program_bachelors_precision_production',\n",
       "       'academics__program_bachelors_psychology',\n",
       "       'academics__program_bachelors_public_administration_social_service',\n",
       "       'academics__program_bachelors_resources',\n",
       "       'academics__program_bachelors_science_technology',\n",
       "       'academics__program_bachelors_security_law_enforcement',\n",
       "       'academics__program_bachelors_social_science',\n",
       "       'academics__program_bachelors_theology_religious_vocation',\n",
       "       'academics__program_bachelors_transportation',\n",
       "       'academics__program_bachelors_visual_performing',\n",
       "       'academics__program_certificate_lt_1_yr_agriculture',\n",
       "       'academics__program_certificate_lt_1_yr_architecture',\n",
       "       'academics__program_certificate_lt_1_yr_biological',\n",
       "       'academics__program_certificate_lt_1_yr_business_marketing',\n",
       "       'academics__program_certificate_lt_1_yr_communication',\n",
       "       'academics__program_certificate_lt_1_yr_communications_technology',\n",
       "       'academics__program_certificate_lt_1_yr_computer',\n",
       "       'academics__program_certificate_lt_1_yr_construction',\n",
       "       'academics__program_certificate_lt_1_yr_education',\n",
       "       'academics__program_certificate_lt_1_yr_engineering',\n",
       "       'academics__program_certificate_lt_1_yr_engineering_technology',\n",
       "       'academics__program_certificate_lt_1_yr_english',\n",
       "       'academics__program_certificate_lt_1_yr_ethnic_cultural_gender',\n",
       "       'academics__program_certificate_lt_1_yr_family_consumer_science',\n",
       "       'academics__program_certificate_lt_1_yr_health',\n",
       "       'academics__program_certificate_lt_1_yr_history',\n",
       "       'academics__program_certificate_lt_1_yr_humanities',\n",
       "       'academics__program_certificate_lt_1_yr_language',\n",
       "       'academics__program_certificate_lt_1_yr_legal',\n",
       "       'academics__program_certificate_lt_1_yr_library',\n",
       "       'academics__program_certificate_lt_1_yr_mathematics',\n",
       "       'academics__program_certificate_lt_1_yr_mechanic_repair_technology',\n",
       "       'academics__program_certificate_lt_1_yr_military',\n",
       "       'academics__program_certificate_lt_1_yr_multidiscipline',\n",
       "       'academics__program_certificate_lt_1_yr_parks_recreation_fitness',\n",
       "       'academics__program_certificate_lt_1_yr_personal_culinary',\n",
       "       'academics__program_certificate_lt_1_yr_philosophy_religious',\n",
       "       'academics__program_certificate_lt_1_yr_physical_science',\n",
       "       'academics__program_certificate_lt_1_yr_precision_production',\n",
       "       'academics__program_certificate_lt_1_yr_psychology',\n",
       "       'academics__program_certificate_lt_1_yr_public_administration_social_service',\n",
       "       'academics__program_certificate_lt_1_yr_resources',\n",
       "       'academics__program_certificate_lt_1_yr_science_technology',\n",
       "       'academics__program_certificate_lt_1_yr_security_law_enforcement',\n",
       "       'academics__program_certificate_lt_1_yr_social_science',\n",
       "       'academics__program_certificate_lt_1_yr_theology_religious_vocation',\n",
       "       'academics__program_certificate_lt_1_yr_transportation',\n",
       "       'academics__program_certificate_lt_1_yr_visual_performing',\n",
       "       'academics__program_certificate_lt_2_yr_agriculture',\n",
       "       'academics__program_certificate_lt_2_yr_architecture',\n",
       "       'academics__program_certificate_lt_2_yr_biological',\n",
       "       'academics__program_certificate_lt_2_yr_business_marketing',\n",
       "       'academics__program_certificate_lt_2_yr_communication',\n",
       "       'academics__program_certificate_lt_2_yr_communications_technology',\n",
       "       'academics__program_certificate_lt_2_yr_computer',\n",
       "       'academics__program_certificate_lt_2_yr_construction',\n",
       "       'academics__program_certificate_lt_2_yr_education',\n",
       "       'academics__program_certificate_lt_2_yr_engineering',\n",
       "       'academics__program_certificate_lt_2_yr_engineering_technology',\n",
       "       'academics__program_certificate_lt_2_yr_english',\n",
       "       'academics__program_certificate_lt_2_yr_ethnic_cultural_gender',\n",
       "       'academics__program_certificate_lt_2_yr_family_consumer_science',\n",
       "       'academics__program_certificate_lt_2_yr_health',\n",
       "       'academics__program_certificate_lt_2_yr_history',\n",
       "       'academics__program_certificate_lt_2_yr_humanities',\n",
       "       'academics__program_certificate_lt_2_yr_language',\n",
       "       'academics__program_certificate_lt_2_yr_legal',\n",
       "       'academics__program_certificate_lt_2_yr_library',\n",
       "       'academics__program_certificate_lt_2_yr_mathematics',\n",
       "       'academics__program_certificate_lt_2_yr_mechanic_repair_technology',\n",
       "       'academics__program_certificate_lt_2_yr_military',\n",
       "       'academics__program_certificate_lt_2_yr_multidiscipline',\n",
       "       'academics__program_certificate_lt_2_yr_parks_recreation_fitness',\n",
       "       'academics__program_certificate_lt_2_yr_personal_culinary',\n",
       "       'academics__program_certificate_lt_2_yr_philosophy_religious',\n",
       "       'academics__program_certificate_lt_2_yr_physical_science',\n",
       "       'academics__program_certificate_lt_2_yr_precision_production',\n",
       "       'academics__program_certificate_lt_2_yr_psychology',\n",
       "       'academics__program_certificate_lt_2_yr_public_administration_social_service',\n",
       "       'academics__program_certificate_lt_2_yr_resources',\n",
       "       'academics__program_certificate_lt_2_yr_science_technology',\n",
       "       'academics__program_certificate_lt_2_yr_security_law_enforcement',\n",
       "       'academics__program_certificate_lt_2_yr_social_science',\n",
       "       'academics__program_certificate_lt_2_yr_theology_religious_vocation',\n",
       "       'academics__program_certificate_lt_2_yr_transportation',\n",
       "       'academics__program_certificate_lt_2_yr_visual_performing',\n",
       "       'academics__program_certificate_lt_4_yr_agriculture',\n",
       "       'academics__program_certificate_lt_4_yr_architecture',\n",
       "       'academics__program_certificate_lt_4_yr_biological',\n",
       "       'academics__program_certificate_lt_4_yr_business_marketing',\n",
       "       'academics__program_certificate_lt_4_yr_communication',\n",
       "       'academics__program_certificate_lt_4_yr_communications_technology',\n",
       "       'academics__program_certificate_lt_4_yr_computer',\n",
       "       'academics__program_certificate_lt_4_yr_construction',\n",
       "       'academics__program_certificate_lt_4_yr_education',\n",
       "       'academics__program_certificate_lt_4_yr_engineering',\n",
       "       'academics__program_certificate_lt_4_yr_engineering_technology',\n",
       "       'academics__program_certificate_lt_4_yr_english',\n",
       "       'academics__program_certificate_lt_4_yr_ethnic_cultural_gender',\n",
       "       'academics__program_certificate_lt_4_yr_family_consumer_science',\n",
       "       'academics__program_certificate_lt_4_yr_health',\n",
       "       'academics__program_certificate_lt_4_yr_history',\n",
       "       'academics__program_certificate_lt_4_yr_humanities',\n",
       "       'academics__program_certificate_lt_4_yr_language',\n",
       "       'academics__program_certificate_lt_4_yr_legal',\n",
       "       'academics__program_certificate_lt_4_yr_library',\n",
       "       'academics__program_certificate_lt_4_yr_mathematics',\n",
       "       'academics__program_certificate_lt_4_yr_mechanic_repair_technology',\n",
       "       'academics__program_certificate_lt_4_yr_military',\n",
       "       'academics__program_certificate_lt_4_yr_multidiscipline',\n",
       "       'academics__program_certificate_lt_4_yr_parks_recreation_fitness',\n",
       "       'academics__program_certificate_lt_4_yr_personal_culinary',\n",
       "       'academics__program_certificate_lt_4_yr_philosophy_religious',\n",
       "       'academics__program_certificate_lt_4_yr_physical_science',\n",
       "       'academics__program_certificate_lt_4_yr_precision_production',\n",
       "       'academics__program_certificate_lt_4_yr_psychology',\n",
       "       'academics__program_certificate_lt_4_yr_public_administration_social_service',\n",
       "       'academics__program_certificate_lt_4_yr_resources',\n",
       "       'academics__program_certificate_lt_4_yr_science_technology',\n",
       "       'academics__program_certificate_lt_4_yr_security_law_enforcement',\n",
       "       'academics__program_certificate_lt_4_yr_social_science',\n",
       "       'academics__program_certificate_lt_4_yr_theology_religious_vocation',\n",
       "       'academics__program_certificate_lt_4_yr_transportation',\n",
       "       'academics__program_certificate_lt_4_yr_visual_performing',\n",
       "       'academics__program_percentage_agriculture',\n",
       "       'academics__program_percentage_architecture',\n",
       "       'academics__program_percentage_biological',\n",
       "       'academics__program_percentage_business_marketing',\n",
       "       'academics__program_percentage_communication',\n",
       "       'academics__program_percentage_communications_technology',\n",
       "       'academics__program_percentage_computer',\n",
       "       'academics__program_percentage_construction',\n",
       "       'academics__program_percentage_education',\n",
       "       'academics__program_percentage_engineering',\n",
       "       'academics__program_percentage_engineering_technology',\n",
       "       'academics__program_percentage_english',\n",
       "       'academics__program_percentage_ethnic_cultural_gender',\n",
       "       'academics__program_percentage_family_consumer_science',\n",
       "       'academics__program_percentage_health',\n",
       "       'academics__program_percentage_history',\n",
       "       'academics__program_percentage_humanities',\n",
       "       'academics__program_percentage_language',\n",
       "       'academics__program_percentage_legal',\n",
       "       'academics__program_percentage_library',\n",
       "       'academics__program_percentage_mathematics',\n",
       "       'academics__program_percentage_mechanic_repair_technology',\n",
       "       'academics__program_percentage_military',\n",
       "       'academics__program_percentage_multidiscipline',\n",
       "       'academics__program_percentage_parks_recreation_fitness',\n",
       "       'academics__program_percentage_personal_culinary',\n",
       "       'academics__program_percentage_philosophy_religious',\n",
       "       'academics__program_percentage_physical_science',\n",
       "       'academics__program_percentage_precision_production',\n",
       "       'academics__program_percentage_psychology',\n",
       "       'academics__program_percentage_public_administration_social_service',\n",
       "       'academics__program_percentage_resources',\n",
       "       'academics__program_percentage_science_technology',\n",
       "       'academics__program_percentage_security_law_enforcement',\n",
       "       'academics__program_percentage_social_science',\n",
       "       'academics__program_percentage_theology_religious_vocation',\n",
       "       'academics__program_percentage_transportation',\n",
       "       'academics__program_percentage_visual_performing',\n",
       "       'admissions__act_scores_25th_percentile_cumulative',\n",
       "       'admissions__act_scores_25th_percentile_english',\n",
       "       'admissions__act_scores_25th_percentile_math',\n",
       "       'admissions__act_scores_25th_percentile_writing',\n",
       "       'admissions__act_scores_75th_percentile_cumulative',\n",
       "       'admissions__act_scores_75th_percentile_english',\n",
       "       'admissions__act_scores_75th_percentile_math',\n",
       "       'admissions__act_scores_75th_percentile_writing',\n",
       "       'admissions__act_scores_midpoint_cumulative',\n",
       "       'admissions__act_scores_midpoint_english',\n",
       "       'admissions__act_scores_midpoint_math',\n",
       "       'admissions__act_scores_midpoint_writing',\n",
       "       'admissions__admission_rate_by_ope_id',\n",
       "       'admissions__admission_rate_overall',\n",
       "       'admissions__sat_scores_25th_percentile_critical_reading',\n",
       "       'admissions__sat_scores_25th_percentile_math',\n",
       "       'admissions__sat_scores_25th_percentile_writing',\n",
       "       'admissions__sat_scores_75th_percentile_critical_reading',\n",
       "       'admissions__sat_scores_75th_percentile_math',\n",
       "       'admissions__sat_scores_75th_percentile_writing',\n",
       "       'admissions__sat_scores_average_by_ope_id',\n",
       "       'admissions__sat_scores_average_overall',\n",
       "       'admissions__sat_scores_midpoint_critical_reading',\n",
       "       'admissions__sat_scores_midpoint_math',\n",
       "       'admissions__sat_scores_midpoint_writing',\n",
       "       'aid__cumulative_debt_10th_percentile',\n",
       "       'aid__cumulative_debt_25th_percentile',\n",
       "       'aid__cumulative_debt_75th_percentile',\n",
       "       'aid__cumulative_debt_90th_percentile', 'aid__cumulative_debt_number',\n",
       "       'aid__federal_loan_rate', 'aid__loan_principal',\n",
       "       'aid__median_debt_completers_monthly_payments',\n",
       "       'aid__median_debt_completers_overall',\n",
       "       'aid__median_debt_dependent_students',\n",
       "       'aid__median_debt_female_students',\n",
       "       'aid__median_debt_first_generation_students',\n",
       "       'aid__median_debt_income_0_30000',\n",
       "       'aid__median_debt_income_30001_75000',\n",
       "       'aid__median_debt_income_greater_than_75000',\n",
       "       'aid__median_debt_independent_students',\n",
       "       'aid__median_debt_male_students', 'aid__median_debt_no_pell_grant',\n",
       "       'aid__median_debt_non_first_generation_students',\n",
       "       'aid__median_debt_noncompleters', 'aid__median_debt_number_completers',\n",
       "       'aid__median_debt_number_dependent_students',\n",
       "       'aid__median_debt_number_female_students',\n",
       "       'aid__median_debt_number_first_generation_students',\n",
       "       'aid__median_debt_number_income_0_30000',\n",
       "       'aid__median_debt_number_income_30001_75000',\n",
       "       'aid__median_debt_number_income_greater_than_75000',\n",
       "       'aid__median_debt_number_independent_students',\n",
       "       'aid__median_debt_number_male_students',\n",
       "       'aid__median_debt_number_no_pell_grant',\n",
       "       'aid__median_debt_number_non_first_generation_students',\n",
       "       'aid__median_debt_number_noncompleters',\n",
       "       'aid__median_debt_number_overall', 'aid__median_debt_number_pell_grant',\n",
       "       'aid__median_debt_pell_grant', 'aid__pell_grant_rate',\n",
       "       'aid__students_with_any_loan',\n",
       "       'completion__completion_cohort_4yr_100nt',\n",
       "       'completion__completion_cohort_4yr_150nt',\n",
       "       'completion__completion_cohort_4yr_150nt_pooled',\n",
       "       'completion__completion_cohort_less_than_4yr_100nt',\n",
       "       'completion__completion_cohort_less_than_4yr_150nt',\n",
       "       'completion__completion_cohort_less_than_4yr_150nt_pooled',\n",
       "       'completion__completion_rate_4yr_100nt',\n",
       "       'completion__completion_rate_4yr_150_2ormore',\n",
       "       'completion__completion_rate_4yr_150_aian',\n",
       "       'completion__completion_rate_4yr_150_asian',\n",
       "       'completion__completion_rate_4yr_150_black',\n",
       "       'completion__completion_rate_4yr_150_hispanic',\n",
       "       'completion__completion_rate_4yr_150_nhpi',\n",
       "       'completion__completion_rate_4yr_150_nonresident_alien',\n",
       "       'completion__completion_rate_4yr_150_race_unknown',\n",
       "       'completion__completion_rate_4yr_150_white',\n",
       "       'completion__completion_rate_4yr_150nt',\n",
       "       'completion__completion_rate_4yr_150nt_pooled',\n",
       "       'completion__completion_rate_l4yr_150_2ormore',\n",
       "       'completion__completion_rate_l4yr_150_aian',\n",
       "       'completion__completion_rate_l4yr_150_asian',\n",
       "       'completion__completion_rate_l4yr_150_black',\n",
       "       'completion__completion_rate_l4yr_150_hispanic',\n",
       "       'completion__completion_rate_l4yr_150_nhpi',\n",
       "       'completion__completion_rate_l4yr_150_nonresident_alien',\n",
       "       'completion__completion_rate_l4yr_150_race_unknown',\n",
       "       'completion__completion_rate_l4yr_150_white',\n",
       "       'completion__completion_rate_less_than_4yr_100nt',\n",
       "       'completion__completion_rate_less_than_4yr_150nt',\n",
       "       'completion__completion_rate_less_than_4yr_150nt_pooled',\n",
       "       'completion__transfer_rate_4yr_full_time',\n",
       "       'completion__transfer_rate_less_than_4yr_full_time',\n",
       "       'cost__attendance_academic_year', 'cost__attendance_program_year',\n",
       "       'cost__avg_net_price_private', 'cost__avg_net_price_public',\n",
       "       'cost__net_price_private_by_income_level_0_30000',\n",
       "       'cost__net_price_private_by_income_level_0_48000',\n",
       "       'cost__net_price_private_by_income_level_110001_plus',\n",
       "       'cost__net_price_private_by_income_level_30001_48000',\n",
       "       'cost__net_price_private_by_income_level_30001_75000',\n",
       "       'cost__net_price_private_by_income_level_48001_75000',\n",
       "       'cost__net_price_private_by_income_level_75000_plus',\n",
       "       'cost__net_price_private_by_income_level_75001_110000',\n",
       "       'cost__net_price_public_by_income_level_0_30000',\n",
       "       'cost__net_price_public_by_income_level_0_48000',\n",
       "       'cost__net_price_public_by_income_level_110001_plus',\n",
       "       'cost__net_price_public_by_income_level_30001_48000',\n",
       "       'cost__net_price_public_by_income_level_30001_75000',\n",
       "       'cost__net_price_public_by_income_level_48001_75000',\n",
       "       'cost__net_price_public_by_income_level_75000_plus',\n",
       "       'cost__net_price_public_by_income_level_75001_110000',\n",
       "       'cost__title_iv_private_all',\n",
       "       'cost__title_iv_private_by_income_level_0_30000',\n",
       "       'cost__title_iv_private_by_income_level_110001_plus',\n",
       "       'cost__title_iv_private_by_income_level_30001_48000',\n",
       "       'cost__title_iv_private_by_income_level_48001_75000',\n",
       "       'cost__title_iv_private_by_income_level_75001_110000',\n",
       "       'cost__title_iv_public_all',\n",
       "       'cost__title_iv_public_by_income_level_0_30000',\n",
       "       'cost__title_iv_public_by_income_level_110001_plus',\n",
       "       'cost__title_iv_public_by_income_level_30001_48000',\n",
       "       'cost__title_iv_public_by_income_level_48001_75000',\n",
       "       'cost__title_iv_public_by_income_level_75001_110000',\n",
       "       'cost__tuition_in_state', 'cost__tuition_out_of_state',\n",
       "       'cost__tuition_program_year', 'report_year', 'school__branches',\n",
       "       'school__carnegie_basic', 'school__carnegie_size_setting',\n",
       "       'school__carnegie_undergrad', 'school__degrees_awarded_highest',\n",
       "       'school__degrees_awarded_predominant', 'school__faculty_salary',\n",
       "       'school__ft_faculty_rate',\n",
       "       'school__institutional_characteristics_level',\n",
       "       'school__instructional_expenditure_per_fte', 'school__locale',\n",
       "       'school__main_campus', 'school__men_only',\n",
       "       'school__minority_serving_aanipi', 'school__minority_serving_annh',\n",
       "       'school__minority_serving_hispanic',\n",
       "       'school__minority_serving_historically_black',\n",
       "       'school__minority_serving_nant',\n",
       "       'school__minority_serving_predominantly_black',\n",
       "       'school__minority_serving_tribal', 'school__online_only',\n",
       "       'school__ownership', 'school__region_id',\n",
       "       'school__religious_affiliation', 'school__state',\n",
       "       'school__tuition_revenue_per_fte', 'school__women_only',\n",
       "       'student__FAFSA_applications',\n",
       "       'student__avg_dependent_income_2014dollars',\n",
       "       'student__avg_independent_income_2014dollars',\n",
       "       'student__demographics_age_entry',\n",
       "       'student__demographics_avg_family_income',\n",
       "       'student__demographics_avg_family_income_independents',\n",
       "       'student__demographics_dependent', 'student__demographics_female_share',\n",
       "       'student__demographics_first_generation',\n",
       "       'student__demographics_married',\n",
       "       'student__demographics_median_family_income',\n",
       "       'student__demographics_men',\n",
       "       'student__demographics_race_ethnicity_aian',\n",
       "       'student__demographics_race_ethnicity_asian',\n",
       "       'student__demographics_race_ethnicity_black',\n",
       "       'student__demographics_race_ethnicity_hispanic',\n",
       "       'student__demographics_race_ethnicity_nhpi',\n",
       "       'student__demographics_race_ethnicity_non_resident_alien',\n",
       "       'student__demographics_race_ethnicity_two_or_more',\n",
       "       'student__demographics_race_ethnicity_unknown',\n",
       "       'student__demographics_race_ethnicity_white',\n",
       "       'student__demographics_veteran', 'student__demographics_women',\n",
       "       'student__fafsa_sent_2_college_allyrs',\n",
       "       'student__fafsa_sent_3_college_allyrs',\n",
       "       'student__fafsa_sent_4_college_allyrs',\n",
       "       'student__fafsa_sent_5plus_college_allyrs',\n",
       "       'student__family_income_dependent_students',\n",
       "       'student__family_income_independent_students',\n",
       "       'student__family_income_overall', 'student__parents_education_level',\n",
       "       'student__part_time_share',\n",
       "       'student__retention_rate_four_year_full_time',\n",
       "       'student__retention_rate_four_year_part_time',\n",
       "       'student__retention_rate_lt_four_year_full_time',\n",
       "       'student__retention_rate_lt_four_year_part_time',\n",
       "       'student__share_dependent_highincome_110001plus',\n",
       "       'student__share_dependent_highincome_75001_110000',\n",
       "       'student__share_dependent_lowincome_0_300000',\n",
       "       'student__share_dependent_middleincome_300001_48000',\n",
       "       'student__share_dependent_middleincome_48001_75000',\n",
       "       'student__share_first_time_full_time',\n",
       "       'student__share_firstgeneration_parents_highschool',\n",
       "       'student__share_firstgeneration_parents_middleschool',\n",
       "       'student__share_firstgeneration_parents_somecollege',\n",
       "       'student__share_highincome_110001plus',\n",
       "       'student__share_highincome_75001_110000',\n",
       "       'student__share_independent_highincome_110001plus',\n",
       "       'student__share_independent_highincome_75001_110000',\n",
       "       'student__share_independent_lowincome_0_30000',\n",
       "       'student__share_independent_middleincome_30001_48000',\n",
       "       'student__share_independent_middleincome_48001_75000',\n",
       "       'student__share_lowincome_0_30000',\n",
       "       'student__share_middleincome_30001_48000',\n",
       "       'student__share_middleincome_48001_75000', 'student__size',\n",
       "       'student__students_with_pell_grant',\n",
       "       'student__valid_dependency_status'],\n",
       "      dtype='object')"
      ]
     },
     "execution_count": 185,
     "metadata": {},
     "output_type": "execute_result"
    }
   ],
   "source": [
    "pd.options.display.max_seq_items = 500\n",
    "X_train.columns"
   ]
  },
  {
   "cell_type": "code",
   "execution_count": 186,
   "metadata": {},
   "outputs": [
    {
     "name": "stdout",
     "output_type": "stream",
     "text": [
      "school__ownership\n",
      "Private for-profit    33.242106\n",
      "Public                52.392471\n",
      "Private nonprofit     67.492957\n",
      "Name: repayment_rate, dtype: float64\n",
      "\n",
      "Answear 1: False\n",
      "Answear 2: True\n",
      "Answear 3: True\n"
     ]
    }
   ],
   "source": [
    "# Question 'School Ownership vs Repayment Rate'\n",
    "# Which two of the following statements are true:\n",
    "# 1) The median repayment rate for privately owned for-profit schools is higher than that of privately owned not-for-profit schools.\n",
    "# 2) The median repayment rate for privately owned not-for-profit schools is higher than that of public schools.\n",
    "# 3) The median repayment rate for public schools is higher than that of privately owned for-profit schools.\n",
    "\n",
    "print(y_train.repayment_rate.groupby(X_train.school__ownership).median().sort_values())\n",
    "\n",
    "Private_for_profit = y_train.repayment_rate.groupby(X_train.school__ownership).median().ix['Private for-profit', :]\n",
    "Public = y_train.repayment_rate.groupby(X_train.school__ownership).median().ix['Public', :]\n",
    "Private_nonprofit = y_train.repayment_rate.groupby(X_train.school__ownership).median().ix['Private nonprofit', :]\n",
    "\n",
    "print()\n",
    "print('Answear 1:', Private_for_profit > Private_nonprofit)\n",
    "print('Answear 2:', Private_nonprofit > Public)\n",
    "print('Answear 3:', Public > Private_for_profit)"
   ]
  },
  {
   "cell_type": "code",
   "execution_count": 187,
   "metadata": {},
   "outputs": [
    {
     "data": {
      "image/png": "[encoded data removed]",
      "text/plain": [
       "<matplotlib.figure.Figure at 0x82d3c571d0>"
      ]
     },
     "metadata": {},
     "output_type": "display_data"
    }
   ],
   "source": [
    "# Question 'SAT Scores vs Repayment Rate'\n",
    "# Which of the following best describes the apparent relationship between SAT scores and repayment rates?\n",
    "# 1) Schools that admit students with a higher average overall SAT score tend to have a lower repayment rate.\n",
    "# 2) Schools that admit students with a higher average overall SAT score tend to have a higher repayment rate.\n",
    "# 3) Average overall SAT score for school admissions has no discernible relationship with repayment rate.\n",
    "\n",
    "sort_x, sort_y = zip(*sorted(zip(y_train.repayment_rate, X_train.admissions__sat_scores_average_overall)))\n",
    "fig, ax = plt.subplots(1, 1, figsize = (16,8))\n",
    "plt.plot(sort_x, sort_y)\n",
    "plt.ylabel('admissions__sat_scores_average_overall')\n",
    "plt.xlabel('repayment_rate')\n",
    "plt.show()\n",
    "\n",
    "#TODO add ax title\n",
    "\n",
    "# Answear: 2) Schools that admit students with a higher average overall SAT score tend to have a higher repayment rate."
   ]
  },
  {
   "cell_type": "code",
   "execution_count": 188,
   "metadata": {},
   "outputs": [
    {
     "data": {
      "image/png": "[encoded data removed]",
      "text/plain": [
       "<matplotlib.figure.Figure at 0x82d2f95550>"
      ]
     },
     "metadata": {},
     "output_type": "display_data"
    }
   ],
   "source": [
    "# Question\n",
    "# Median Family Income vs Repayment Rate\n",
    "# Which of the following best describes the apparent relationship between median family income and repayment rates?\n",
    "# 1) Schools where students have a low median family income tend to have a low repayment rate.\n",
    "# 2) Schools where students have a low median family income tend to have a high repayment rate.\n",
    "# 3) Median family income has no discernible relationship with repayment rate.\n",
    "\n",
    "sort_x, sort_y = zip(*sorted(zip(y_train.repayment_rate, X_train.student__demographics_median_family_income)))\n",
    "fig, ax = plt.subplots(1, 1, figsize = (16,8))\n",
    "plt.ylabel('student__demographics_median_family_income')\n",
    "plt.xlabel('repayment_rate')\n",
    "plt.plot(sort_x, sort_y)\n",
    "plt.show()\n",
    "\n",
    "#TODO add ax title\n",
    "\n",
    "# Answear: 1) Schools where students have a low median family income tend to have a low repayment rate."
   ]
  },
  {
   "cell_type": "code",
   "execution_count": 189,
   "metadata": {},
   "outputs": [
    {
     "name": "stdout",
     "output_type": "stream",
     "text": [
      "school__region_id\n",
      "Southeast (AL, AR, FL, GA, KY, LA, MS, NC, SC, TN, VA, WV)    34.979262\n",
      "Southwest (AZ, NM, OK, TX)                                    35.721824\n",
      "Outlying Areas (AS, FM, GU, MH, MP, PR, PW, VI)               39.844847\n",
      "Far West (AK, CA, HI, NV, OR, WA)                             43.874565\n",
      "Great Lakes (IL, IN, MI, OH, WI)                              45.356757\n",
      "Rocky Mountains (CO, ID, MT, UT, WY)                          47.890840\n",
      "Mid East (DE, DC, MD, NJ, NY, PA)                             54.069880\n",
      "Plains (IA, KS, MN, MO, NE, ND, SD)                           54.133111\n",
      "New England (CT, ME, MA, NH, RI, VT)                          62.002451\n",
      "U.S. Service Schools                                          90.755288\n",
      "Name: repayment_rate, dtype: float64\n"
     ]
    }
   ],
   "source": [
    "# Which of the following school regions has the highest median repayment rate?\n",
    "# 1) Great Lakes\n",
    "# 2) Far West\n",
    "# 3) New England\n",
    "# 4) Rocky Mountains\n",
    "X_train.school__region_id\n",
    "\n",
    "print(y_train.repayment_rate.groupby(X_train.school__region_id).median().sort_values())\n",
    "\n",
    "# Answear: 3) New England"
   ]
  },
  {
   "cell_type": "code",
   "execution_count": 190,
   "metadata": {},
   "outputs": [
    {
     "data": {
      "text/plain": [
       "Index(['report_year', 'school__carnegie_basic',\n",
       "       'school__carnegie_size_setting', 'school__carnegie_undergrad',\n",
       "       'school__degrees_awarded_highest',\n",
       "       'school__degrees_awarded_predominant',\n",
       "       'school__institutional_characteristics_level', 'school__locale',\n",
       "       'school__main_campus', 'school__men_only',\n",
       "       'school__minority_serving_aanipi', 'school__minority_serving_annh',\n",
       "       'school__minority_serving_hispanic',\n",
       "       'school__minority_serving_historically_black',\n",
       "       'school__minority_serving_nant',\n",
       "       'school__minority_serving_predominantly_black',\n",
       "       'school__minority_serving_tribal', 'school__online_only',\n",
       "       'school__ownership', 'school__region_id',\n",
       "       'school__religious_affiliation', 'school__state', 'school__women_only'],\n",
       "      dtype='object')"
      ]
     },
     "execution_count": 190,
     "metadata": {},
     "output_type": "execute_result"
    }
   ],
   "source": [
    "X_train.select_dtypes(['object']).columns"
   ]
  },
  {
   "cell_type": "code",
   "execution_count": 191,
   "metadata": {},
   "outputs": [
    {
     "name": "stdout",
     "output_type": "stream",
     "text": [
      "agriculture:  [  0.   1.  nan   2.]\n",
      "architecture:  [  0.  nan   1.   2.]\n",
      "biological:  [  0.  nan   1.   2.]\n",
      "marketing:  [  2.   0.   1.  nan]\n"
     ]
    }
   ],
   "source": [
    "print('agriculture: ', X_train.academics__program_assoc_agriculture.unique())\n",
    "print('architecture: ', X_train.academics__program_assoc_architecture.unique())\n",
    "print('biological: ', X_train.academics__program_assoc_biological.unique())\n",
    "print('marketing: ', X_train.academics__program_assoc_business_marketing.unique())"
   ]
  },
  {
   "cell_type": "code",
   "execution_count": 192,
   "metadata": {
    "collapsed": true
   },
   "outputs": [],
   "source": [
    "object_cols = X_train.blocks['object'].columns\n",
    "float_cols = X_train.blocks['float64'].columns\n",
    "\n",
    "d1 = dict((col, '') for col in object_cols)\n",
    "d2 = dict((col, 0) for col in float_cols)\n",
    "X_train = X_train.fillna(value=dict(d1, **d2))"
   ]
  },
  {
   "cell_type": "code",
   "execution_count": 193,
   "metadata": {},
   "outputs": [
    {
     "name": "stdout",
     "output_type": "stream",
     "text": [
      "(8705, 443)\n",
      "(6391, 443)\n",
      "Float: (8705, 419)\n",
      "Float: (6391, 419)\n"
     ]
    }
   ],
   "source": [
    "print(X_train.shape)\n",
    "print(X_test.shape)\n",
    "\n",
    "print('Float:', X_train.loc[:, X_train.dtypes == float].shape)\n",
    "print('Float:', X_test.loc[:, X_test.dtypes == float].shape)"
   ]
  },
  {
   "cell_type": "code",
   "execution_count": 194,
   "metadata": {},
   "outputs": [],
   "source": [
    "object_cols_test = X_test.blocks['object'].columns\n",
    "float_cols_test = X_test.blocks['float64'].columns\n",
    "\n",
    "d1_test = dict((col, '') for col in object_cols_test)\n",
    "d2_test = dict((col, 0) for col in float_cols_test)\n",
    "X_test = X_test.fillna(value=dict(d1_test, **d2_test))"
   ]
  },
  {
   "cell_type": "code",
   "execution_count": 195,
   "metadata": {},
   "outputs": [
    {
     "name": "stdout",
     "output_type": "stream",
     "text": [
      "(8705, 443)\n",
      "(6391, 443)\n",
      "Float: (8705, 419)\n",
      "Float: (6391, 419)\n"
     ]
    }
   ],
   "source": [
    "print(X_train.shape)\n",
    "print(X_test.shape)\n",
    "\n",
    "print('Float:', X_train.loc[:, X_train.dtypes == float].shape)\n",
    "print('Float:', X_test.loc[:, X_test.dtypes == float].shape)"
   ]
  },
  {
   "cell_type": "code",
   "execution_count": 196,
   "metadata": {
    "collapsed": true
   },
   "outputs": [],
   "source": [
    "#TODO check is is filling NaN?\n",
    "X_train.loc[:, X_train.dtypes == float] = X_train.loc[:, X_train.dtypes == float].fillna(0)\n",
    "X_test.loc[:, X_test.dtypes == float] = X_test.loc[:, X_test.dtypes == float].fillna(0)"
   ]
  },
  {
   "cell_type": "code",
   "execution_count": 197,
   "metadata": {},
   "outputs": [
    {
     "name": "stdout",
     "output_type": "stream",
     "text": [
      "(8705, 419)\n",
      "(6391, 419)\n"
     ]
    }
   ],
   "source": [
    "print(X_train.loc[:, X_train.dtypes == float].shape)\n",
    "print(X_test.loc[:, X_test.dtypes == float].shape)"
   ]
  },
  {
   "cell_type": "code",
   "execution_count": 198,
   "metadata": {},
   "outputs": [],
   "source": [
    "from sklearn.preprocessing import StandardScaler  \n",
    "scaler = StandardScaler()  \n",
    "# Don't cheat - fit only on training data\n",
    "scaler = scaler.fit(X_train.loc[:, X_train.dtypes == float]) \n",
    "X_train = scaler.transform(X_train.loc[:, X_train.dtypes == float])\n",
    "#X_test = scaler.transform(X_test.loc[:, X_test.dtypes == float])"
   ]
  },
  {
   "cell_type": "code",
   "execution_count": 199,
   "metadata": {},
   "outputs": [],
   "source": [
    "X_test = scaler.transform(X_test.loc[:, X_test.dtypes == float])"
   ]
  },
  {
   "cell_type": "code",
   "execution_count": 165,
   "metadata": {},
   "outputs": [
    {
     "name": "stdout",
     "output_type": "stream",
     "text": [
      "(8705, 419)\n",
      "(6391, 419)\n"
     ]
    }
   ],
   "source": [
    "print(X_train.shape)\n",
    "print(X_test.shape)"
   ]
  },
  {
   "cell_type": "code",
   "execution_count": 166,
   "metadata": {
    "collapsed": true
   },
   "outputs": [],
   "source": [
    "from sklearn.model_selection import train_test_split\n",
    "data_train, data_test, label_train, label_test = train_test_split(X_train, y_train, test_size=0.7, random_state=7)"
   ]
  },
  {
   "cell_type": "raw",
   "metadata": {},
   "source": [
    "#  MRSE: 9.1861\n",
    "from sklearn.neural_network import MLPRegressor\n",
    "model = MLPRegressor()\n",
    "\n",
    "print(\"Fitting...\")\n",
    "s = time.time()\n",
    "\n",
    "model = model.fit(data_train, label_train)\n",
    "print(\"Fitting completed in: \", time.time() - s)\n",
    "print(model)\n",
    "\n",
    "mse = mean_squared_error(label_test, model.predict(data_test))\n",
    "mrse = mean_squared_error(label_test, model.predict(data_test))**0.5\n",
    "print(\"MSE: %.4f\" % mse)\n",
    "print(\"MRSE: %.4f\" % mrse)\n",
    "print(\"Score:\",(model.score(data_test, label_test))*100,\"%\")\n",
    "\n",
    "#TODO ADD GRAPH\n",
    "#x_plot = list(range(0, label_test.count()))\n",
    "#fig, ax = plt.subplots(1, 1, figsize = (16,8))\n",
    "#plt.plot(x_plot, label_test)\n",
    "#plt.plot(x_plot, model.predict(data_test))\n",
    "#plt.show()\n",
    "\n",
    "# hidden_layer_sizes=(1000, ) - MRSE: 8.94, Score: 81.86%\n",
    "# activation='identity' - MRSE: 15.98, Score: 42.15%\n",
    "# activation='logistic' - MRSE: 8.57, Score: 83.36%\n",
    "# activation='tanh' - MRSE: 12.18, Score: 66.38%"
   ]
  },
  {
   "cell_type": "code",
   "execution_count": 167,
   "metadata": {},
   "outputs": [
    {
     "name": "stdout",
     "output_type": "stream",
     "text": [
      "Fitting...\n"
     ]
    },
    {
     "name": "stderr",
     "output_type": "stream",
     "text": [
      "C:\\Users\\t.bugaevskiy\\AppData\\Local\\Continuum\\Anaconda3\\lib\\site-packages\\sklearn\\utils\\validation.py:526: DataConversionWarning: A column-vector y was passed when a 1d array was expected. Please change the shape of y to (n_samples, ), for example using ravel().\n",
      "  y = column_or_1d(y, warn=True)\n"
     ]
    },
    {
     "name": "stdout",
     "output_type": "stream",
     "text": [
      "Fitting completed in:  223.28590369224548\n",
      "GradientBoostingRegressor(alpha=0.9, criterion='mse', init=None,\n",
      "             learning_rate=0.05, loss='ls', max_depth=5, max_features=None,\n",
      "             max_leaf_nodes=None, min_impurity_split=1e-07,\n",
      "             min_samples_leaf=1, min_samples_split=3,\n",
      "             min_weight_fraction_leaf=0.0, n_estimators=500,\n",
      "             presort='auto', random_state=None, subsample=1.0, verbose=0,\n",
      "             warm_start=False)\n",
      "MSE: 53.0713\n",
      "MRSE: 7.28501\n",
      "Score : 87.9802039988 %\n"
     ]
    }
   ],
   "source": [
    "# I trained 4 different models and GradientBoostingRegressor shows the best result. \n",
    "# After that I tuned parameters for GBR and delete all code which is related to it.\n",
    "from sklearn import ensemble\n",
    "params = {\n",
    "    'n_estimators': 500, \n",
    "    'max_depth': 5, \n",
    "    'min_samples_split': 3,\n",
    "    'learning_rate': 0.05,\n",
    "    'loss': 'ls',\n",
    "    'criterion': 'mse'\n",
    "    }\n",
    "clf = ensemble.GradientBoostingRegressor(**params)\n",
    "\n",
    "print(\"Fitting...\")\n",
    "s = time.time()\n",
    "\n",
    "clf.fit(data_train, label_train)\n",
    "print(\"Fitting completed in: \", time.time() - s)\n",
    "print(clf)\n",
    "\n",
    "mse = mean_squared_error(label_test, clf.predict(data_test))\n",
    "mrse = mean_squared_error(label_test, clf.predict(data_test))**0.5\n",
    "print(\"MSE: %.4f\" % mse)\n",
    "print(\"MRSE: %.5f\" % mrse)\n",
    "print(\"Score :\",(clf.score(data_test, label_test))*100,\"%\")\n",
    "#print(clf.feature_importances_) #TODO check it\n",
    "\n",
    "#MSE: 53.0925\n",
    "#MRSE: 7.28646\n",
    "#Score : 87.9754109048 %"
   ]
  },
  {
   "cell_type": "code",
   "execution_count": 168,
   "metadata": {},
   "outputs": [
    {
     "name": "stdout",
     "output_type": "stream",
     "text": [
      "Fitting...\n"
     ]
    },
    {
     "name": "stderr",
     "output_type": "stream",
     "text": [
      "C:\\Users\\t.bugaevskiy\\AppData\\Local\\Continuum\\Anaconda3\\lib\\site-packages\\sklearn\\utils\\validation.py:526: DataConversionWarning: A column-vector y was passed when a 1d array was expected. Please change the shape of y to (n_samples, ), for example using ravel().\n",
      "  y = column_or_1d(y, warn=True)\n"
     ]
    },
    {
     "name": "stdout",
     "output_type": "stream",
     "text": [
      "Fitting completed in:  459.3602931499481\n",
      "GradientBoostingRegressor(alpha=0.9, criterion='mse', init=None,\n",
      "             learning_rate=0.05, loss='ls', max_depth=5, max_features=None,\n",
      "             max_leaf_nodes=None, min_impurity_split=1e-07,\n",
      "             min_samples_leaf=1, min_samples_split=3,\n",
      "             min_weight_fraction_leaf=0.0, n_estimators=500,\n",
      "             presort='auto', random_state=None, subsample=1.0, verbose=0,\n",
      "             warm_start=False)\n",
      "MSE on train data: 13.7866\n",
      "MRSE on train data: 3.71304\n",
      "Score on train data: 96.8697348716 %\n"
     ]
    }
   ],
   "source": [
    "# Train best model on full train dataset\n",
    "from sklearn import ensemble\n",
    "params = {\n",
    "    'n_estimators': 500, \n",
    "    'max_depth': 5, \n",
    "    'min_samples_split': 3,\n",
    "    'learning_rate': 0.05,\n",
    "    'loss': 'ls',\n",
    "    'criterion': 'mse'\n",
    "    }\n",
    "final_model = ensemble.GradientBoostingRegressor(**params)\n",
    "\n",
    "print(\"Fitting...\")\n",
    "s = time.time()\n",
    "\n",
    "final_model.fit(X_train, y_train)\n",
    "print(\"Fitting completed in: \", time.time() - s)\n",
    "print(clf)\n",
    "\n",
    "#print(clf.feature_importances_) #TODO check it\n",
    "\n",
    "mse_train_data = mean_squared_error(y_train, final_model.predict(X_train))\n",
    "mrse_train_data = mean_squared_error(y_train, final_model.predict(X_train))**0.5\n",
    "print(\"MSE on train data: %.4f\" % mse_train_data)\n",
    "print(\"MRSE on train data: %.5f\" % mrse_train_data)\n",
    "print(\"Score on train data:\",(final_model.score(X_train, y_train))*100,\"%\")"
   ]
  },
  {
   "cell_type": "code",
   "execution_count": 200,
   "metadata": {},
   "outputs": [
    {
     "data": {
      "text/plain": [
       "array([ 48.49612534,  42.09460992,  33.43798391, ...,  37.84093581,\n",
       "        79.78365655,  20.12078436])"
      ]
     },
     "execution_count": 200,
     "metadata": {},
     "output_type": "execute_result"
    }
   ],
   "source": [
    "prediction = final_model.predict(X_test)\n",
    "prediction"
   ]
  },
  {
   "cell_type": "code",
   "execution_count": 201,
   "metadata": {},
   "outputs": [
    {
     "data": {
      "text/plain": [
       "Int64Index([    0,     1,     2,     9,    10,    14,    16,    18,    20,\n",
       "               21,\n",
       "            ...\n",
       "            15072, 15074, 15075, 15076, 15077, 15079, 15082, 15087, 15090,\n",
       "            15092],\n",
       "           dtype='int64', name='row_id', length=6391)"
      ]
     },
     "execution_count": 201,
     "metadata": {},
     "output_type": "execute_result"
    }
   ],
   "source": [
    "row_id"
   ]
  },
  {
   "cell_type": "code",
   "execution_count": 217,
   "metadata": {
    "scrolled": true
   },
   "outputs": [
    {
     "data": {
      "text/html": [
       "<div>\n",
       "<table border=\"1\" class=\"dataframe\">\n",
       "  <thead>\n",
       "    <tr style=\"text-align: right;\">\n",
       "      <th></th>\n",
       "      <th>repayment_rate</th>\n",
       "    </tr>\n",
       "    <tr>\n",
       "      <th>row_id</th>\n",
       "      <th></th>\n",
       "    </tr>\n",
       "  </thead>\n",
       "  <tbody>\n",
       "    <tr>\n",
       "      <th>0</th>\n",
       "      <td>48.496125</td>\n",
       "    </tr>\n",
       "    <tr>\n",
       "      <th>1</th>\n",
       "      <td>42.094610</td>\n",
       "    </tr>\n",
       "    <tr>\n",
       "      <th>2</th>\n",
       "      <td>33.437984</td>\n",
       "    </tr>\n",
       "    <tr>\n",
       "      <th>9</th>\n",
       "      <td>88.220188</td>\n",
       "    </tr>\n",
       "    <tr>\n",
       "      <th>10</th>\n",
       "      <td>75.027782</td>\n",
       "    </tr>\n",
       "    <tr>\n",
       "      <th>14</th>\n",
       "      <td>70.464471</td>\n",
       "    </tr>\n",
       "    <tr>\n",
       "      <th>16</th>\n",
       "      <td>11.415038</td>\n",
       "    </tr>\n",
       "    <tr>\n",
       "      <th>18</th>\n",
       "      <td>85.415434</td>\n",
       "    </tr>\n",
       "    <tr>\n",
       "      <th>20</th>\n",
       "      <td>77.533125</td>\n",
       "    </tr>\n",
       "    <tr>\n",
       "      <th>21</th>\n",
       "      <td>77.057324</td>\n",
       "    </tr>\n",
       "    <tr>\n",
       "      <th>22</th>\n",
       "      <td>31.148551</td>\n",
       "    </tr>\n",
       "    <tr>\n",
       "      <th>25</th>\n",
       "      <td>51.498756</td>\n",
       "    </tr>\n",
       "    <tr>\n",
       "      <th>29</th>\n",
       "      <td>62.574841</td>\n",
       "    </tr>\n",
       "    <tr>\n",
       "      <th>30</th>\n",
       "      <td>40.296027</td>\n",
       "    </tr>\n",
       "    <tr>\n",
       "      <th>32</th>\n",
       "      <td>71.407609</td>\n",
       "    </tr>\n",
       "    <tr>\n",
       "      <th>34</th>\n",
       "      <td>34.254062</td>\n",
       "    </tr>\n",
       "    <tr>\n",
       "      <th>37</th>\n",
       "      <td>28.147695</td>\n",
       "    </tr>\n",
       "    <tr>\n",
       "      <th>41</th>\n",
       "      <td>43.746972</td>\n",
       "    </tr>\n",
       "    <tr>\n",
       "      <th>44</th>\n",
       "      <td>73.126730</td>\n",
       "    </tr>\n",
       "    <tr>\n",
       "      <th>45</th>\n",
       "      <td>85.063270</td>\n",
       "    </tr>\n",
       "    <tr>\n",
       "      <th>46</th>\n",
       "      <td>53.364239</td>\n",
       "    </tr>\n",
       "    <tr>\n",
       "      <th>47</th>\n",
       "      <td>45.539950</td>\n",
       "    </tr>\n",
       "    <tr>\n",
       "      <th>51</th>\n",
       "      <td>79.729471</td>\n",
       "    </tr>\n",
       "    <tr>\n",
       "      <th>57</th>\n",
       "      <td>68.893041</td>\n",
       "    </tr>\n",
       "    <tr>\n",
       "      <th>59</th>\n",
       "      <td>53.628188</td>\n",
       "    </tr>\n",
       "    <tr>\n",
       "      <th>62</th>\n",
       "      <td>47.181317</td>\n",
       "    </tr>\n",
       "    <tr>\n",
       "      <th>65</th>\n",
       "      <td>53.428777</td>\n",
       "    </tr>\n",
       "    <tr>\n",
       "      <th>66</th>\n",
       "      <td>72.033774</td>\n",
       "    </tr>\n",
       "    <tr>\n",
       "      <th>67</th>\n",
       "      <td>42.624037</td>\n",
       "    </tr>\n",
       "    <tr>\n",
       "      <th>69</th>\n",
       "      <td>80.683888</td>\n",
       "    </tr>\n",
       "    <tr>\n",
       "      <th>...</th>\n",
       "      <td>...</td>\n",
       "    </tr>\n",
       "    <tr>\n",
       "      <th>15022</th>\n",
       "      <td>75.735424</td>\n",
       "    </tr>\n",
       "    <tr>\n",
       "      <th>15024</th>\n",
       "      <td>37.653487</td>\n",
       "    </tr>\n",
       "    <tr>\n",
       "      <th>15025</th>\n",
       "      <td>20.570275</td>\n",
       "    </tr>\n",
       "    <tr>\n",
       "      <th>15026</th>\n",
       "      <td>36.696638</td>\n",
       "    </tr>\n",
       "    <tr>\n",
       "      <th>15030</th>\n",
       "      <td>45.811098</td>\n",
       "    </tr>\n",
       "    <tr>\n",
       "      <th>15032</th>\n",
       "      <td>57.786482</td>\n",
       "    </tr>\n",
       "    <tr>\n",
       "      <th>15033</th>\n",
       "      <td>70.810699</td>\n",
       "    </tr>\n",
       "    <tr>\n",
       "      <th>15040</th>\n",
       "      <td>60.821318</td>\n",
       "    </tr>\n",
       "    <tr>\n",
       "      <th>15043</th>\n",
       "      <td>24.249603</td>\n",
       "    </tr>\n",
       "    <tr>\n",
       "      <th>15046</th>\n",
       "      <td>71.633143</td>\n",
       "    </tr>\n",
       "    <tr>\n",
       "      <th>15047</th>\n",
       "      <td>89.262390</td>\n",
       "    </tr>\n",
       "    <tr>\n",
       "      <th>15049</th>\n",
       "      <td>80.748811</td>\n",
       "    </tr>\n",
       "    <tr>\n",
       "      <th>15050</th>\n",
       "      <td>68.607683</td>\n",
       "    </tr>\n",
       "    <tr>\n",
       "      <th>15051</th>\n",
       "      <td>74.071030</td>\n",
       "    </tr>\n",
       "    <tr>\n",
       "      <th>15053</th>\n",
       "      <td>47.459896</td>\n",
       "    </tr>\n",
       "    <tr>\n",
       "      <th>15059</th>\n",
       "      <td>41.625826</td>\n",
       "    </tr>\n",
       "    <tr>\n",
       "      <th>15060</th>\n",
       "      <td>78.920505</td>\n",
       "    </tr>\n",
       "    <tr>\n",
       "      <th>15066</th>\n",
       "      <td>72.467471</td>\n",
       "    </tr>\n",
       "    <tr>\n",
       "      <th>15070</th>\n",
       "      <td>65.949366</td>\n",
       "    </tr>\n",
       "    <tr>\n",
       "      <th>15071</th>\n",
       "      <td>86.898390</td>\n",
       "    </tr>\n",
       "    <tr>\n",
       "      <th>15072</th>\n",
       "      <td>62.654347</td>\n",
       "    </tr>\n",
       "    <tr>\n",
       "      <th>15074</th>\n",
       "      <td>76.885665</td>\n",
       "    </tr>\n",
       "    <tr>\n",
       "      <th>15075</th>\n",
       "      <td>81.197393</td>\n",
       "    </tr>\n",
       "    <tr>\n",
       "      <th>15076</th>\n",
       "      <td>65.753363</td>\n",
       "    </tr>\n",
       "    <tr>\n",
       "      <th>15077</th>\n",
       "      <td>78.319398</td>\n",
       "    </tr>\n",
       "    <tr>\n",
       "      <th>15079</th>\n",
       "      <td>54.445311</td>\n",
       "    </tr>\n",
       "    <tr>\n",
       "      <th>15082</th>\n",
       "      <td>47.389777</td>\n",
       "    </tr>\n",
       "    <tr>\n",
       "      <th>15087</th>\n",
       "      <td>37.840936</td>\n",
       "    </tr>\n",
       "    <tr>\n",
       "      <th>15090</th>\n",
       "      <td>79.783657</td>\n",
       "    </tr>\n",
       "    <tr>\n",
       "      <th>15092</th>\n",
       "      <td>20.120784</td>\n",
       "    </tr>\n",
       "  </tbody>\n",
       "</table>\n",
       "<p>6391 rows × 1 columns</p>\n",
       "</div>"
      ],
      "text/plain": [
       "        repayment_rate\n",
       "row_id                \n",
       "0            48.496125\n",
       "1            42.094610\n",
       "2            33.437984\n",
       "9            88.220188\n",
       "10           75.027782\n",
       "14           70.464471\n",
       "16           11.415038\n",
       "18           85.415434\n",
       "20           77.533125\n",
       "21           77.057324\n",
       "22           31.148551\n",
       "25           51.498756\n",
       "29           62.574841\n",
       "30           40.296027\n",
       "32           71.407609\n",
       "34           34.254062\n",
       "37           28.147695\n",
       "41           43.746972\n",
       "44           73.126730\n",
       "45           85.063270\n",
       "46           53.364239\n",
       "47           45.539950\n",
       "51           79.729471\n",
       "57           68.893041\n",
       "59           53.628188\n",
       "62           47.181317\n",
       "65           53.428777\n",
       "66           72.033774\n",
       "67           42.624037\n",
       "69           80.683888\n",
       "...                ...\n",
       "15022        75.735424\n",
       "15024        37.653487\n",
       "15025        20.570275\n",
       "15026        36.696638\n",
       "15030        45.811098\n",
       "15032        57.786482\n",
       "15033        70.810699\n",
       "15040        60.821318\n",
       "15043        24.249603\n",
       "15046        71.633143\n",
       "15047        89.262390\n",
       "15049        80.748811\n",
       "15050        68.607683\n",
       "15051        74.071030\n",
       "15053        47.459896\n",
       "15059        41.625826\n",
       "15060        78.920505\n",
       "15066        72.467471\n",
       "15070        65.949366\n",
       "15071        86.898390\n",
       "15072        62.654347\n",
       "15074        76.885665\n",
       "15075        81.197393\n",
       "15076        65.753363\n",
       "15077        78.319398\n",
       "15079        54.445311\n",
       "15082        47.389777\n",
       "15087        37.840936\n",
       "15090        79.783657\n",
       "15092        20.120784\n",
       "\n",
       "[6391 rows x 1 columns]"
      ]
     },
     "execution_count": 217,
     "metadata": {},
     "output_type": "execute_result"
    }
   ],
   "source": [
    "answear = pd.DataFrame({'row_id':row_id, 'repayment_rate':prediction})\n",
    "answear_cols = answear.columns.tolist()\n",
    "answear_cols = answear_cols[-1:] + answear_cols[:-1]\n",
    "answear = answear[answear_cols]\n",
    "answear = answear.set_index(row_id)\n",
    "del answear['row_id']\n",
    "answear"
   ]
  },
  {
   "cell_type": "code",
   "execution_count": 218,
   "metadata": {},
   "outputs": [],
   "source": [
    "answear.to_csv('answear_csv.csv')\n",
    "#'C:/Users/t.bugaevskiy/Desktop/edX/10_DAT102x_Predict_Student_Loan_Repayment'"
   ]
  },
  {
   "cell_type": "code",
   "execution_count": null,
   "metadata": {},
   "outputs": [],
   "source": []
  },
  {
   "cell_type": "code",
   "execution_count": null,
   "metadata": {
    "collapsed": true
   },
   "outputs": [],
   "source": []
  },
  {
   "cell_type": "code",
   "execution_count": 169,
   "metadata": {},
   "outputs": [
    {
     "data": {
      "text/plain": [
       "(6391, 419)"
      ]
     },
     "execution_count": 169,
     "metadata": {},
     "output_type": "execute_result"
    }
   ],
   "source": [
    "X_test.shape"
   ]
  },
  {
   "cell_type": "code",
   "execution_count": null,
   "metadata": {
    "collapsed": true
   },
   "outputs": [],
   "source": []
  },
  {
   "cell_type": "code",
   "execution_count": null,
   "metadata": {
    "collapsed": true
   },
   "outputs": [],
   "source": []
  },
  {
   "cell_type": "raw",
   "metadata": {},
   "source": [
    "indices = np.argsort(clf.feature_importances_)\n",
    "# plot as bar chart\n",
    "plt.barh(np.arange(len(names)), clf.feature_importances_[indices])\n",
    "plt.yticks(np.arange(len(names)) + 0.25, np.array(names)[indices])\n",
    "_ = plt.xlabel('Relative importance')"
   ]
  },
  {
   "cell_type": "raw",
   "metadata": {
    "collapsed": true
   },
   "source": [
    "# Import the necessary modules and libraries\n",
    "from sklearn.tree import DecisionTreeRegressor\n",
    "\n",
    "# Fit regression model\n",
    "regr_1 = DecisionTreeRegressor(max_depth=5)\n",
    "regr_2 = DecisionTreeRegressor(max_depth=9)\n",
    "regr_1.fit(data_train, label_train)\n",
    "regr_2.fit(data_train, label_train)\n",
    "\n",
    "# Predict\n",
    "X_test = np.arange(0.0, 5.0, 0.01)[:, np.newaxis]\n",
    "y_1 = regr_1.predict(data_test)\n",
    "y_2 = regr_2.predict(data_test)\n",
    "\n",
    "print(\"Score 1:\",(regr_1.score(data_test, label_test))*100,\"%\")\n",
    "mse = mean_squared_error(label_test, regr_1.predict(data_test))\n",
    "mrse = mean_squared_error(label_test, regr_1.predict(data_test))**0.5\n",
    "print(\"MSE 1: %.4f\" % mse)\n",
    "print(\"MRSE 1: %.5f\" % mrse)\n",
    "\n",
    "print(\"Score 2:\",(regr_2.score(data_test, label_test))*100,\"%\")\n",
    "mse = mean_squared_error(label_test, regr_2.predict(data_test))\n",
    "mrse = mean_squared_error(label_test, regr_2.predict(data_test))**0.5\n",
    "print(\"MSE 2: %.4f\" % mse)\n",
    "print(\"MRSE 2: %.5f\" % mrse)"
   ]
  }
 ],
 "metadata": {
  "kernelspec": {
   "display_name": "Python 3",
   "language": "python",
   "name": "python3"
  },
  "language_info": {
   "codemirror_mode": {
    "name": "ipython",
    "version": 3
   },
   "file_extension": ".py",
   "mimetype": "text/x-python",
   "name": "python",
   "nbconvert_exporter": "python",
   "pygments_lexer": "ipython3",
   "version": "3.6.0"
  }
 },
 "nbformat": 4,
 "nbformat_minor": 2
}
